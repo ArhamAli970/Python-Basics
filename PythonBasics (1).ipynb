{
  "nbformat": 4,
  "nbformat_minor": 0,
  "metadata": {
    "colab": {
      "provenance": []
    },
    "kernelspec": {
      "name": "python3",
      "display_name": "Python 3"
    },
    "language_info": {
      "name": "python"
    }
  },
  "cells": [
    {
      "cell_type": "markdown",
      "source": [
        "1. What is Python, and why is it popular ?\n",
        " - python is a open source , interpreted programming language, used widely in development,Data science etc. and has more than 137000 library.\n",
        "\n",
        "\n",
        "2. What is an interpreter in Python ?\n",
        " - interpreter used to read each line of code one by one.\n",
        "\n",
        "3. What are pre-defined keywords in Python ?\n",
        " - Pre-defined keywords are those words which has already meaning in python and can't be use as Identifiers. for ex- True, for,break etc.\n",
        "\n",
        "4. Can keywords be used as variable names ?\n",
        " - No keywords can't be used as variable names\n",
        "\n",
        "5. What is mutability in Python ?\n",
        " - mutablity means that you can add or modify the value once they created.for ex- lists etc.\n",
        "\n",
        "6. Why are lists mutable, but tuples are immutable ?\n",
        "\n",
        " - lists are mutable because you can modify or add item in list and in tuples you can't add or modify elements once they created.\n",
        "\n",
        "7. What is the difference between “==” and “is” operators in Python ?\n",
        "\n",
        " - \"==\" used to check the value is equal , and is Identity operator used to check the address of the value is same or not.\n",
        "\n",
        "\n",
        "8. What are logical operators in Python ?\n",
        " - logical operator used to check the certain conditions and gives the boolean outcomes according to operator. for ex- and,or,not etc.\n",
        "\n",
        "9. What is type casting in Python ?\n",
        " - type casting is a method used to change  data type of value to another data type , there are two type of type casting implicit, explicit.\n",
        "\n",
        "10. What is the difference between implicit and explicit type casting ?\n",
        "- Implicit -> In this type of casting used to change the datatype to\n",
        "another datatype forcefully by add function. for ex - str(34) , int(\"33\").\n",
        "- Explicit -> In this type of casting used to change the datatype to another datatype by its own. for ex - 3+2.5 =5.5 here the integer change into float.\n",
        "\n",
        "\n",
        "11.  What is the purpose of conditional statements in Python ?\n",
        "\n",
        " - conditional statements is a decision making statement used to execute block of code on the basis of true and false\n",
        "\n",
        "\n",
        "12.  How does the elif statement work ?\n",
        "\n",
        " - elif is also called else if statement  executes when the if conditions becomes false.\n",
        "\n",
        "13. What is the difference between for and while loops ?\n",
        "\n",
        " - for loop executes till a given value , and on other side while loop executes till a particular condition.\n",
        "\n",
        "14.  Describe a scenario where a while loop is more suitable than a for loop.\n",
        "\n",
        " - when you want to get kth prime number you will check for each value weather it is prime number or not if yes then k-=1 .\n",
        "\n",
        "\n",
        "\n"
      ],
      "metadata": {
        "id": "q1xsYJa_soHe"
      }
    },
    {
      "cell_type": "code",
      "source": [
        "#PRACTICAL QUESTIONS\n",
        "\n",
        "#1.  Write a Python program to print \"Hello, World!\n",
        "\n",
        "\n",
        "print(\"Hello,World\")"
      ],
      "metadata": {
        "colab": {
          "base_uri": "https://localhost:8080/"
        },
        "id": "VvmnnvKU1QwI",
        "outputId": "a456924f-ed18-4aae-ea95-ecf4e822e9c3"
      },
      "execution_count": null,
      "outputs": [
        {
          "output_type": "stream",
          "name": "stdout",
          "text": [
            "Hello,World\n"
          ]
        }
      ]
    },
    {
      "cell_type": "code",
      "execution_count": null,
      "metadata": {
        "id": "1P0ctm3Xr9ka",
        "colab": {
          "base_uri": "https://localhost:8080/"
        },
        "outputId": "b1af43c1-00a6-49ae-c67f-16cf2007cd94"
      },
      "outputs": [
        {
          "output_type": "stream",
          "name": "stdout",
          "text": [
            "My name is Arham Ali and age is 22 years\n"
          ]
        }
      ],
      "source": [
        "# 2.  Write a Python program that displays your name and age.\n",
        "print(\"My name is Arham Ali and age is 22 years\")"
      ]
    },
    {
      "cell_type": "code",
      "source": [
        "# 3.   Write code to print all the pre-defined keywords in Python using the keyword library\n",
        "\n",
        "\n",
        "import keyword\n",
        "print(keyword.kwlist)"
      ],
      "metadata": {
        "colab": {
          "base_uri": "https://localhost:8080/"
        },
        "id": "xS7E4dYJ2IIB",
        "outputId": "e5d835ff-a675-4c65-88d0-ee6d877a9db4"
      },
      "execution_count": null,
      "outputs": [
        {
          "output_type": "stream",
          "name": "stdout",
          "text": [
            "['False', 'None', 'True', 'and', 'as', 'assert', 'async', 'await', 'break', 'class', 'continue', 'def', 'del', 'elif', 'else', 'except', 'finally', 'for', 'from', 'global', 'if', 'import', 'in', 'is', 'lambda', 'nonlocal', 'not', 'or', 'pass', 'raise', 'return', 'try', 'while', 'with', 'yield']\n"
          ]
        }
      ]
    },
    {
      "cell_type": "code",
      "source": [
        "# 4. Write a program that checks if a given word is a Python keyword.\n",
        "\n",
        "\n",
        "str=input(\"Write Word: \")\n",
        "if(str in keyword.kwlist):\n",
        "  print(\"Yes, it is Keyword\")\n",
        "else:\n",
        "  print(\"No, it is not keyword\")\n"
      ],
      "metadata": {
        "colab": {
          "base_uri": "https://localhost:8080/"
        },
        "id": "jBcZ6xHM2Ukn",
        "outputId": "827e1be9-30fe-4712-a77d-0e6858665ad5"
      },
      "execution_count": null,
      "outputs": [
        {
          "output_type": "stream",
          "name": "stdout",
          "text": [
            "Write Word: fo\n",
            "No, it is not keyword\n"
          ]
        }
      ]
    },
    {
      "cell_type": "code",
      "source": [
        "'''\n",
        "5. Create a list and tuple in Python, and demonstrate how attempting to change an element works differently\n",
        "for each.\n",
        "'''\n",
        "\n",
        "lst=[12,3,15,34]\n",
        "tple=(12,5,2,55)\n",
        "\n",
        "# if we add elements or modify list it will not give any error as it is mutable object\n",
        "lst[0]=55\n",
        "print(lst)\n",
        "\n",
        "# but if we add elements or modify list it will  give any error as it is immutable object\n",
        "tple[1]=99\n",
        "\n",
        "print(tple)\n"
      ],
      "metadata": {
        "colab": {
          "base_uri": "https://localhost:8080/",
          "height": 228
        },
        "id": "2yA5X38W3B51",
        "outputId": "96454164-247c-4416-88cb-493fba6517cc"
      },
      "execution_count": null,
      "outputs": [
        {
          "output_type": "stream",
          "name": "stdout",
          "text": [
            "[55, 3, 15, 34]\n"
          ]
        },
        {
          "output_type": "error",
          "ename": "TypeError",
          "evalue": "'tuple' object does not support item assignment",
          "traceback": [
            "\u001b[0;31m---------------------------------------------------------------------------\u001b[0m",
            "\u001b[0;31mTypeError\u001b[0m                                 Traceback (most recent call last)",
            "\u001b[0;32m<ipython-input-17-9855caa5beaa>\u001b[0m in \u001b[0;36m<cell line: 0>\u001b[0;34m()\u001b[0m\n\u001b[1;32m      7\u001b[0m \u001b[0;34m\u001b[0m\u001b[0m\n\u001b[1;32m      8\u001b[0m \u001b[0;31m# but if we add elements or modify list it will  give any error as it is immutable object\u001b[0m\u001b[0;34m\u001b[0m\u001b[0;34m\u001b[0m\u001b[0m\n\u001b[0;32m----> 9\u001b[0;31m \u001b[0mtple\u001b[0m\u001b[0;34m[\u001b[0m\u001b[0;36m1\u001b[0m\u001b[0;34m]\u001b[0m\u001b[0;34m=\u001b[0m\u001b[0;36m99\u001b[0m\u001b[0;34m\u001b[0m\u001b[0;34m\u001b[0m\u001b[0m\n\u001b[0m\u001b[1;32m     10\u001b[0m \u001b[0;34m\u001b[0m\u001b[0m\n\u001b[1;32m     11\u001b[0m \u001b[0mprint\u001b[0m\u001b[0;34m(\u001b[0m\u001b[0mtple\u001b[0m\u001b[0;34m)\u001b[0m\u001b[0;34m\u001b[0m\u001b[0;34m\u001b[0m\u001b[0m\n",
            "\u001b[0;31mTypeError\u001b[0m: 'tuple' object does not support item assignment"
          ]
        }
      ]
    },
    {
      "cell_type": "code",
      "source": [
        "# 6. Write a function to demonstrate the behavior of mutable and immutable arguments.\n",
        "\n",
        "def chgString(st):\n",
        "  st+=\"df\"\n",
        "\n",
        "def chgList(lst):\n",
        "  lst.append(99)\n",
        "\n",
        "st=\"hello\"\n",
        "lst=[1,34,5,13]\n",
        "\n",
        "chgString(st)\n",
        "chgList(lst)\n",
        "\n",
        "#it affects the original data\n",
        "print(lst)\n",
        "\n",
        "# it does n't affect the original data\n",
        "print(st)"
      ],
      "metadata": {
        "colab": {
          "base_uri": "https://localhost:8080/"
        },
        "id": "x74zTRJr4Vqr",
        "outputId": "47e4aa0b-2375-4e3b-e3f9-fd2f51cc47a4"
      },
      "execution_count": null,
      "outputs": [
        {
          "output_type": "stream",
          "name": "stdout",
          "text": [
            "[1, 34, 5, 13, 99]\n",
            "hello\n"
          ]
        }
      ]
    },
    {
      "cell_type": "code",
      "source": [
        "\n",
        "# 7. Write a program that performs basic arithmetic operations on two user-input numbers.\n",
        "\n",
        "\n",
        "num1=int(input(\"Enter number: \"))\n",
        "num2=int(input(\"Enter number: \"))\n",
        "\n",
        "print(num1+num2) #Add\n",
        "print(num1-num2) #Subtract\n",
        "print(num1*num2) #Multiply\n",
        "print(num1%num2) #Reminder\n",
        "print(num1/num2) #Division\n",
        "print(num1**num2) #exponential"
      ],
      "metadata": {
        "colab": {
          "base_uri": "https://localhost:8080/"
        },
        "id": "oW4gH0VH62Xg",
        "outputId": "f9f12119-20a3-493d-81cc-14859b6079c0"
      },
      "execution_count": null,
      "outputs": [
        {
          "output_type": "stream",
          "name": "stdout",
          "text": [
            "Enter number: 2\n",
            "Enter number: 3\n",
            "5\n",
            "-1\n",
            "6\n",
            "2\n",
            "0.6666666666666666\n",
            "8\n"
          ]
        }
      ]
    },
    {
      "cell_type": "code",
      "source": [
        "# 8. Write a program to demonstrate the use of logical operators.\n",
        "\n",
        "\n",
        "age = 20\n",
        "has_id = True\n",
        "is_registered = False\n",
        "\n",
        "# Check if person can enter a club (must be 18+ AND have ID)\n",
        "if(age >= 18 and has_id):\n",
        "  print(\"You can enter club.\")\n",
        "else:\n",
        "  print(\"You can't enter club.\")\n",
        "\n",
        "# Check if person can vote (must be 18+ OR is already registered)\n",
        "if(age >= 18 or is_registered):\n",
        "  print(\"You can vote.\")\n",
        "else:\n",
        "  print(\"You can't vot\")\n"
      ],
      "metadata": {
        "colab": {
          "base_uri": "https://localhost:8080/"
        },
        "id": "d56t4R9t7jC9",
        "outputId": "1781f26d-6a5c-4c62-8381-8e2d78a81fa5"
      },
      "execution_count": null,
      "outputs": [
        {
          "output_type": "stream",
          "name": "stdout",
          "text": [
            "You can enter club.\n",
            "You can vote.\n"
          ]
        }
      ]
    },
    {
      "cell_type": "code",
      "source": [
        "# 9. Write a Python program to convert user input from string to integer, float, and boolean types.\n",
        "\n",
        "\n",
        "num=input(\"Enter number: \")\n",
        "\n",
        "print(int(num))\n",
        "print(float(num))\n",
        "print(bool(num))\n",
        "\n"
      ],
      "metadata": {
        "colab": {
          "base_uri": "https://localhost:8080/"
        },
        "id": "zN9642_0861W",
        "outputId": "46fbe04b-3c5f-492d-e783-fadc1ab43cfb"
      },
      "execution_count": null,
      "outputs": [
        {
          "output_type": "stream",
          "name": "stdout",
          "text": [
            "Enter number: 23\n",
            "23\n",
            "23.0\n",
            "True\n"
          ]
        }
      ]
    },
    {
      "cell_type": "code",
      "source": [
        "# 10. Write code to demonstrate type casting with list elements.\n",
        "\n",
        "lst=['3.5','9.8','12.5','2.99']\n",
        "\n",
        "for i in range(len(lst)):\n",
        "  lst[i]=float(lst[i])\n",
        "\n",
        "print(lst)"
      ],
      "metadata": {
        "id": "5UXckMgr9MZy",
        "colab": {
          "base_uri": "https://localhost:8080/"
        },
        "outputId": "c3eb8fb2-caa5-4c9d-e7d8-893e0fb2f9af"
      },
      "execution_count": null,
      "outputs": [
        {
          "output_type": "stream",
          "name": "stdout",
          "text": [
            "[3.5, 9.8, 12.5, 2.99]\n"
          ]
        }
      ]
    },
    {
      "cell_type": "code",
      "source": [
        "# 11. Write a program that checks if a number is positive, negative, or zero.\n",
        "\n",
        "num=int(input(\"Enter number: \"))\n",
        "if(num<0):\n",
        "  print(\"negative\")\n",
        "elif(num>0):\n",
        "  print(\"positive\")\n",
        "else:\n",
        "  print(\"zero\")"
      ],
      "metadata": {
        "colab": {
          "base_uri": "https://localhost:8080/"
        },
        "id": "h-yfQPw0IiOF",
        "outputId": "c381eb7e-136c-4ba2-9d5e-77c941be9373"
      },
      "execution_count": null,
      "outputs": [
        {
          "output_type": "stream",
          "name": "stdout",
          "text": [
            "Enter number: 45\n",
            "positive\n"
          ]
        }
      ]
    },
    {
      "cell_type": "code",
      "source": [
        "# 12. Write a for loop to print numbers from 1 to 10.\n",
        "\n",
        "for i in range(1,11):\n",
        "  print(i)"
      ],
      "metadata": {
        "colab": {
          "base_uri": "https://localhost:8080/"
        },
        "id": "2F4e-eSdI4Bk",
        "outputId": "a28c379d-6760-4f3a-c510-545fa8cc2504"
      },
      "execution_count": null,
      "outputs": [
        {
          "output_type": "stream",
          "name": "stdout",
          "text": [
            "1\n",
            "2\n",
            "3\n",
            "4\n",
            "5\n",
            "6\n",
            "7\n",
            "8\n",
            "9\n",
            "10\n"
          ]
        }
      ]
    },
    {
      "cell_type": "code",
      "source": [
        "# 13. Write a Python program to find the sum of all even numbers between 1 and 50.\n",
        "\n",
        "sum=0\n",
        "for i in range(51):\n",
        "  if i%2==0:\n",
        "    sum+=i\n",
        "print(sum)"
      ],
      "metadata": {
        "colab": {
          "base_uri": "https://localhost:8080/"
        },
        "id": "RGwL_haJJFw1",
        "outputId": "d6fb9f45-8b7a-4b64-f426-2406675b4a25"
      },
      "execution_count": null,
      "outputs": [
        {
          "output_type": "stream",
          "name": "stdout",
          "text": [
            "650\n"
          ]
        }
      ]
    },
    {
      "cell_type": "code",
      "source": [
        "# 14. Write a program to reverse a string using a while loop.\n",
        "\n",
        "st=\"helloWorld\"\n",
        "i=len(st)-1\n",
        "revStr=\"\"\n",
        "while(i>=0):\n",
        "  revStr+=st[i]\n",
        "  i-=1\n",
        "print(\"Reverse String: \",revStr)"
      ],
      "metadata": {
        "colab": {
          "base_uri": "https://localhost:8080/"
        },
        "id": "pbPhBR5CJrt8",
        "outputId": "731d92c9-6157-45b5-cd56-6ef3b3d1b3f5"
      },
      "execution_count": null,
      "outputs": [
        {
          "output_type": "stream",
          "name": "stdout",
          "text": [
            "Reverse String:  dlroWolleh\n"
          ]
        }
      ]
    },
    {
      "cell_type": "code",
      "source": [
        "# 15. Write a Python program to calculate the factorial of a number provided by the user using a while loop.\n",
        "\n",
        "\n",
        "num=int(input(\"Enter number: \"))\n",
        "fact=1\n",
        "while(num>0):\n",
        "  fact*=num\n",
        "  num-=1\n",
        "\n",
        "print(\"factorial: \",fact)\n"
      ],
      "metadata": {
        "colab": {
          "base_uri": "https://localhost:8080/"
        },
        "id": "TfJXZIfiKLbf",
        "outputId": "10a20fdb-8441-4c23-dd91-71b7d67fe4da"
      },
      "execution_count": null,
      "outputs": [
        {
          "output_type": "stream",
          "name": "stdout",
          "text": [
            "Enter number: 5\n",
            "factorial:  120\n"
          ]
        }
      ]
    }
  ]
}